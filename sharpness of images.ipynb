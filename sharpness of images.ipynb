{
 "cells": [
  {
   "attachments": {},
   "cell_type": "markdown",
   "metadata": {},
   "source": [
    "### code adapted from https://stackoverflow.com/questions/6646371/detect-which-image-is-sharper?fbclid=IwAR3vSxH5KDbo07xVThEQbjG4eSVDdelHO782NZm1mQh35xtxSzk07qXb0Jw"
   ]
  },
  {
   "cell_type": "code",
   "execution_count": 47,
   "metadata": {},
   "outputs": [],
   "source": [
    "from PIL import Image\n",
    "import numpy as np\n",
    "import matplotlib.pyplot as plt"
   ]
  },
  {
   "attachments": {},
   "cell_type": "markdown",
   "metadata": {},
   "source": [
    "## Site 1"
   ]
  },
  {
   "cell_type": "code",
   "execution_count": 48,
   "metadata": {},
   "outputs": [
    {
     "name": "stdout",
     "output_type": "stream",
     "text": [
      "1.2155811245193624\n"
     ]
    }
   ],
   "source": [
    "im = Image.open(\"/Users/mark/Documents/Coding/GitHub/Physics-165-Camera-Obscura-Sharpness/Pinhole Camera/Site 1/Varying pinhole sizes with far subject/DSC08602.JPG\").convert('L') # to grayscale\n",
    "array = np.asarray(im, dtype=np.int32)\n",
    "\n",
    "gy, gx = np.gradient(array)\n",
    "gnorm = np.sqrt(gx**2 + gy**2)\n",
    "sharpness1_1 = np.average(gnorm)\n",
    "\n",
    "print(sharpness1_1)"
   ]
  },
  {
   "cell_type": "code",
   "execution_count": 49,
   "metadata": {},
   "outputs": [
    {
     "name": "stdout",
     "output_type": "stream",
     "text": [
      "1.3349945448631502\n"
     ]
    }
   ],
   "source": [
    "im = Image.open(\"/Users/mark/Documents/Coding/GitHub/Physics-165-Camera-Obscura-Sharpness/Pinhole Camera/Site 1/Varying pinhole sizes with far subject/DSC08611.JPG\").convert('L') # to grayscale\n",
    "array = np.asarray(im, dtype=np.int32)\n",
    "\n",
    "gy, gx = np.gradient(array)\n",
    "gnorm = np.sqrt(gx**2 + gy**2)\n",
    "sharpness1_2 = np.average(gnorm)\n",
    "\n",
    "print(sharpness1_2)"
   ]
  },
  {
   "cell_type": "code",
   "execution_count": 50,
   "metadata": {},
   "outputs": [
    {
     "name": "stdout",
     "output_type": "stream",
     "text": [
      "1.4353634178956518\n"
     ]
    }
   ],
   "source": [
    "im = Image.open(\"/Users/mark/Documents/Coding/GitHub/Physics-165-Camera-Obscura-Sharpness/Pinhole Camera/Site 1/Varying pinhole sizes with far subject/DSC08619.JPG\").convert('L') # to grayscale\n",
    "array = np.asarray(im, dtype=np.int32)\n",
    "\n",
    "gy, gx = np.gradient(array)\n",
    "gnorm = np.sqrt(gx**2 + gy**2)\n",
    "sharpness1_3 = np.average(gnorm)\n",
    "\n",
    "print(sharpness1_3)"
   ]
  },
  {
   "attachments": {},
   "cell_type": "markdown",
   "metadata": {},
   "source": [
    "## Site 2"
   ]
  },
  {
   "cell_type": "code",
   "execution_count": 51,
   "metadata": {},
   "outputs": [
    {
     "name": "stdout",
     "output_type": "stream",
     "text": [
      "1.266292480294174\n"
     ]
    }
   ],
   "source": [
    "im = Image.open(\"/Users/mark/Documents/Coding/GitHub/Physics-165-Camera-Obscura-Sharpness/Pinhole Camera/Site 2/Varying pinhole sizes with far subject/DSC08650.JPG\").convert('L') # to grayscale\n",
    "array = np.asarray(im, dtype=np.int32)\n",
    "\n",
    "gy, gx = np.gradient(array)\n",
    "gnorm = np.sqrt(gx**2 + gy**2)\n",
    "sharpness2_1 = np.average(gnorm)\n",
    "\n",
    "print(sharpness2_1)"
   ]
  },
  {
   "cell_type": "code",
   "execution_count": 52,
   "metadata": {},
   "outputs": [
    {
     "name": "stdout",
     "output_type": "stream",
     "text": [
      "1.4695601682976547\n"
     ]
    }
   ],
   "source": [
    "im = Image.open(\"/Users/mark/Documents/Coding/GitHub/Physics-165-Camera-Obscura-Sharpness/Pinhole Camera/Site 2/Varying pinhole sizes with far subject/DSC08637.JPG\").convert('L') # to grayscale\n",
    "array = np.asarray(im, dtype=np.int32)\n",
    "\n",
    "gy, gx = np.gradient(array)\n",
    "gnorm = np.sqrt(gx**2 + gy**2)\n",
    "sharpness2_2 = np.average(gnorm)\n",
    "\n",
    "print(sharpness2_2)"
   ]
  },
  {
   "cell_type": "code",
   "execution_count": 53,
   "metadata": {},
   "outputs": [
    {
     "name": "stdout",
     "output_type": "stream",
     "text": [
      "1.5370552251181102\n"
     ]
    }
   ],
   "source": [
    "im = Image.open(\"/Users/mark/Documents/Coding/GitHub/Physics-165-Camera-Obscura-Sharpness/Pinhole Camera/Site 2/Varying pinhole sizes with far subject/DSC08631.JPG\").convert('L') # to grayscale\n",
    "array = np.asarray(im, dtype=np.int32)\n",
    "\n",
    "gy, gx = np.gradient(array)\n",
    "gnorm = np.sqrt(gx**2 + gy**2)\n",
    "sharpness2_3 = np.average(gnorm)\n",
    "\n",
    "print(sharpness2_3)"
   ]
  },
  {
   "attachments": {},
   "cell_type": "markdown",
   "metadata": {},
   "source": [
    "## Site 3"
   ]
  },
  {
   "cell_type": "code",
   "execution_count": 54,
   "metadata": {},
   "outputs": [
    {
     "name": "stdout",
     "output_type": "stream",
     "text": [
      "1.1694201084824833\n"
     ]
    }
   ],
   "source": [
    "im = Image.open(\"/Users/mark/Documents/Coding/GitHub/Physics-165-Camera-Obscura-Sharpness/Pinhole Camera/Site 3/Varying pinhole sizes with far subject/DSC08656.JPG\").convert('L')\n",
    "array = np.asarray(im, dtype=np.int32)\n",
    "\n",
    "gy, gx = np.gradient(array)\n",
    "gnorm = np.sqrt(gx**2 + gy**2)\n",
    "sharpness3_1 = np.average(gnorm)\n",
    "\n",
    "print(sharpness3_1)"
   ]
  },
  {
   "cell_type": "code",
   "execution_count": 55,
   "metadata": {},
   "outputs": [
    {
     "name": "stdout",
     "output_type": "stream",
     "text": [
      "1.3561671233549153\n"
     ]
    }
   ],
   "source": [
    "im = Image.open(\"/Users/mark/Documents/Coding/GitHub/Physics-165-Camera-Obscura-Sharpness/Pinhole Camera/Site 3/Varying pinhole sizes with far subject/DSC08666.JPG\").convert('L')\n",
    "array = np.asarray(im, dtype=np.int32)\n",
    "\n",
    "gy, gx = np.gradient(array)\n",
    "gnorm = np.sqrt(gx**2 + gy**2)\n",
    "sharpness3_2 = np.average(gnorm)\n",
    "\n",
    "print(sharpness3_2)"
   ]
  },
  {
   "cell_type": "code",
   "execution_count": 56,
   "metadata": {},
   "outputs": [
    {
     "name": "stdout",
     "output_type": "stream",
     "text": [
      "1.510464636503692\n"
     ]
    }
   ],
   "source": [
    "im = Image.open(\"/Users/mark/Documents/Coding/GitHub/Physics-165-Camera-Obscura-Sharpness/Pinhole Camera/Site 3/Varying pinhole sizes with far subject/DSC08683.JPG\").convert('L')\n",
    "array = np.asarray(im, dtype=np.int32)\n",
    "\n",
    "gy, gx = np.gradient(array)\n",
    "gnorm = np.sqrt(gx**2 + gy**2)\n",
    "sharpness3_3 = np.average(gnorm)\n",
    "\n",
    "print(sharpness3_3)"
   ]
  },
  {
   "cell_type": "code",
   "execution_count": 57,
   "metadata": {},
   "outputs": [
    {
     "data": {
      "image/png": "[encoded data removed]",
      "text/plain": [
       "<Figure size 432x288 with 1 Axes>"
      ]
     },
     "metadata": {
      "needs_background": "light"
     },
     "output_type": "display_data"
    }
   ],
   "source": [
    "list0 = [0.5,1.0,1.5]\n",
    "list1 = [sharpness1_3,sharpness1_2,sharpness1_1]\n",
    "list2 = [sharpness2_3,sharpness2_2,sharpness2_1]\n",
    "list3 = [sharpness3_3,sharpness3_2,sharpness3_1]\n",
    "\n",
    "plt.plot(list0,list1,marker=\"*\", label=\"Site 1\")\n",
    "plt.plot(list0,list2,marker=\"*\", label=\"Site 2\")\n",
    "plt.plot(list0,list3,marker=\"*\", label=\"Site 3\")\n",
    "plt.ylabel(\"Sharpness\")\n",
    "plt.xlabel(\"Pinhole size (mm)\")\n",
    "plt.legend()\n",
    "plt.show()"
   ]
  }
 ],
 "metadata": {
  "kernelspec": {
   "display_name": "Python 3",
   "language": "python",
   "name": "python3"
  },
  "language_info": {
   "codemirror_mode": {
    "name": "ipython",
    "version": 3
   },
   "file_extension": ".py",
   "mimetype": "text/x-python",
   "name": "python",
   "nbconvert_exporter": "python",
   "pygments_lexer": "ipython3",
   "version": "3.9.12"
  },
  "orig_nbformat": 4
 },
 "nbformat": 4,
 "nbformat_minor": 2
}
